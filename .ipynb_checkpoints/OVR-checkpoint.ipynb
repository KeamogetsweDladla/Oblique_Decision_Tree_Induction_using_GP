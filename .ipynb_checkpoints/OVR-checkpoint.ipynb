{
 "cells": [
  {
   "cell_type": "code",
   "execution_count": 1,
   "id": "33c60188-2d69-467b-ad08-d960291e3db6",
   "metadata": {},
   "outputs": [
    {
     "name": "stdout",
     "output_type": "stream",
     "text": [
      "Requirement already satisfied: datasets in c:\\users\\keamodladla\\anaconda3\\lib\\site-packages (3.0.0)\n",
      "Requirement already satisfied: filelock in c:\\users\\keamodladla\\anaconda3\\lib\\site-packages (from datasets) (3.13.1)\n",
      "Requirement already satisfied: numpy>=1.17 in c:\\users\\keamodladla\\anaconda3\\lib\\site-packages (from datasets) (1.26.4)\n",
      "Requirement already satisfied: pyarrow>=15.0.0 in c:\\users\\keamodladla\\anaconda3\\lib\\site-packages (from datasets) (17.0.0)\n",
      "Requirement already satisfied: dill<0.3.9,>=0.3.0 in c:\\users\\keamodladla\\anaconda3\\lib\\site-packages (from datasets) (0.3.8)\n",
      "Requirement already satisfied: pandas in c:\\users\\keamodladla\\anaconda3\\lib\\site-packages (from datasets) (2.2.2)\n",
      "Requirement already satisfied: requests>=2.32.2 in c:\\users\\keamodladla\\anaconda3\\lib\\site-packages (from datasets) (2.32.2)\n",
      "Requirement already satisfied: tqdm>=4.66.3 in c:\\users\\keamodladla\\anaconda3\\lib\\site-packages (from datasets) (4.66.4)\n",
      "Requirement already satisfied: xxhash in c:\\users\\keamodladla\\anaconda3\\lib\\site-packages (from datasets) (3.5.0)\n",
      "Requirement already satisfied: multiprocess in c:\\users\\keamodladla\\anaconda3\\lib\\site-packages (from datasets) (0.70.16)\n",
      "Requirement already satisfied: fsspec<=2024.6.1,>=2023.1.0 in c:\\users\\keamodladla\\anaconda3\\lib\\site-packages (from fsspec[http]<=2024.6.1,>=2023.1.0->datasets) (2024.3.1)\n",
      "Requirement already satisfied: aiohttp in c:\\users\\keamodladla\\anaconda3\\lib\\site-packages (from datasets) (3.9.5)\n",
      "Requirement already satisfied: huggingface-hub>=0.22.0 in c:\\users\\keamodladla\\anaconda3\\lib\\site-packages (from datasets) (0.25.0)\n",
      "Requirement already satisfied: packaging in c:\\users\\keamodladla\\anaconda3\\lib\\site-packages (from datasets) (23.2)\n",
      "Requirement already satisfied: pyyaml>=5.1 in c:\\users\\keamodladla\\anaconda3\\lib\\site-packages (from datasets) (6.0.1)\n",
      "Requirement already satisfied: aiosignal>=1.1.2 in c:\\users\\keamodladla\\anaconda3\\lib\\site-packages (from aiohttp->datasets) (1.2.0)\n",
      "Requirement already satisfied: attrs>=17.3.0 in c:\\users\\keamodladla\\anaconda3\\lib\\site-packages (from aiohttp->datasets) (23.1.0)\n",
      "Requirement already satisfied: frozenlist>=1.1.1 in c:\\users\\keamodladla\\anaconda3\\lib\\site-packages (from aiohttp->datasets) (1.4.0)\n",
      "Requirement already satisfied: multidict<7.0,>=4.5 in c:\\users\\keamodladla\\anaconda3\\lib\\site-packages (from aiohttp->datasets) (6.0.4)\n",
      "Requirement already satisfied: yarl<2.0,>=1.0 in c:\\users\\keamodladla\\anaconda3\\lib\\site-packages (from aiohttp->datasets) (1.9.3)\n",
      "Requirement already satisfied: typing-extensions>=3.7.4.3 in c:\\users\\keamodladla\\anaconda3\\lib\\site-packages (from huggingface-hub>=0.22.0->datasets) (3.10.0.2)\n",
      "Requirement already satisfied: charset-normalizer<4,>=2 in c:\\users\\keamodladla\\anaconda3\\lib\\site-packages (from requests>=2.32.2->datasets) (2.0.4)\n",
      "Requirement already satisfied: idna<4,>=2.5 in c:\\users\\keamodladla\\anaconda3\\lib\\site-packages (from requests>=2.32.2->datasets) (3.7)\n",
      "Requirement already satisfied: urllib3<3,>=1.21.1 in c:\\users\\keamodladla\\anaconda3\\lib\\site-packages (from requests>=2.32.2->datasets) (2.2.2)\n",
      "Requirement already satisfied: certifi>=2017.4.17 in c:\\users\\keamodladla\\anaconda3\\lib\\site-packages (from requests>=2.32.2->datasets) (2024.6.2)\n",
      "Requirement already satisfied: colorama in c:\\users\\keamodladla\\anaconda3\\lib\\site-packages (from tqdm>=4.66.3->datasets) (0.4.6)\n",
      "Requirement already satisfied: python-dateutil>=2.8.2 in c:\\users\\keamodladla\\anaconda3\\lib\\site-packages (from pandas->datasets) (2.9.0.post0)\n",
      "Requirement already satisfied: pytz>=2020.1 in c:\\users\\keamodladla\\anaconda3\\lib\\site-packages (from pandas->datasets) (2024.1)\n",
      "Requirement already satisfied: tzdata>=2022.7 in c:\\users\\keamodladla\\anaconda3\\lib\\site-packages (from pandas->datasets) (2023.3)\n",
      "Requirement already satisfied: six>=1.5 in c:\\users\\keamodladla\\anaconda3\\lib\\site-packages (from python-dateutil>=2.8.2->pandas->datasets) (1.16.0)\n"
     ]
    }
   ],
   "source": [
    "! pip install datasets\n",
    "from sklearn.datasets import load_iris\n",
    "from sklearn.model_selection import train_test_split\n",
    "from sklearn.metrics import accuracy_score\n",
    "from gplearn.genetic import SymbolicClassifier\n",
    "from sklearn.multiclass import OneVsRestClassifier"
   ]
  },
  {
   "cell_type": "code",
   "execution_count": 3,
   "id": "ac684c52-6875-4419-8d53-b123e23acd6f",
   "metadata": {},
   "outputs": [
    {
     "name": "stdout",
     "output_type": "stream",
     "text": [
      "    |   Population Average    |             Best Individual              |\n",
      "---- ------------------------- ------------------------------------------ ----------\n",
      " Gen   Length          Fitness   Length          Fitness      OOB Fitness  Time Left\n",
      "   0    30.98          6.97099      127      9.99201e-16      9.99201e-16      3.55m\n",
      "    |   Population Average    |             Best Individual              |\n",
      "---- ------------------------- ------------------------------------------ ----------\n",
      " Gen   Length          Fitness   Length          Fitness      OOB Fitness  Time Left\n",
      "   0    31.97          6.74043       63         0.337265          1.24053      3.48m\n",
      "   1    19.58          1.85539       53         0.268744          0.20186      2.91m\n",
      "   2    29.53          1.98472       27          0.12474        0.0877539      2.83m\n",
      "   3    48.80          2.12432       27         0.110458         0.209805      3.18m\n",
      "   4    49.63          2.46923      135        0.0441962           1.5691      3.13m\n",
      "   5    47.45          2.60963       69        0.0584985         0.942741      3.04m\n",
      "   6    30.86          2.66703       37        0.0603217         0.660385      2.22m\n",
      "   7    27.56          2.78601       59        0.0508452         0.270922      2.18m\n",
      "   8    26.37          3.01031       55        0.0383563         0.389685      1.94m\n",
      "   9    27.67           3.1166       21        0.0439208         0.327933      1.92m\n",
      "  10    28.77          3.02378       43        0.0305585         0.391372      1.58m\n",
      "  11    27.76           3.1971       45        0.0253111         0.475359      1.46m\n",
      "  12    25.52          3.12036       27        0.0214597          0.49093      1.29m\n",
      "  13    23.53          2.99087       27        0.0358024         0.336511     54.24s\n",
      "  14    22.39          2.99192       43        0.0052298          6.28063     48.01s\n",
      "    |   Population Average    |             Best Individual              |\n",
      "---- ------------------------- ------------------------------------------ ----------\n",
      " Gen   Length          Fitness   Length          Fitness      OOB Fitness  Time Left\n",
      "   0    30.17          6.42866       33         0.115496         0.829935      3.61m\n",
      "   1    18.05          2.04605      131         0.115369        0.0801544      3.26m\n",
      "   2    20.83          2.31795       77        0.0680082         0.349512      3.05m\n",
      "   3    27.77          3.37173       15         0.065858         0.459196      2.75m\n",
      "   4    26.52          3.55124       33        0.0423565         0.352998      2.57m\n",
      "   5    22.05          3.65788       21        0.0366038          0.54371      2.14m\n",
      "   6    20.08          3.87775       25        0.0358342          0.27328      2.08m\n",
      "   7    20.34          4.06804       41        0.0327892         0.340012      2.03m\n",
      "   8    22.01          4.02481       49        0.0109348         0.528493      1.96m\n",
      "   9    24.60          4.19038       35       0.00864733         0.540076      1.78m\n"
     ]
    }
   ],
   "source": [
    "data = load_iris()\n",
    "X = data.data\n",
    "y = data.target\n",
    "\n",
    "# Split the dataset into training and testing sets\n",
    "X_train, X_test, y_train, y_test = \\\n",
    "        train_test_split(X, y, test_size=.3, random_state=42)\n",
    "\n",
    "# Initialise the SymbolicClassifier\n",
    "base_cl = SymbolicClassifier(population_size = 5000, generations = 20, stopping_criteria = 0.01, p_crossover = 0.7,\n",
    "                            p_subtree_mutation = 0.1, p_hoist_mutation = 0.05, p_point_mutation = 0.1,\n",
    "                            max_samples = 0.9, verbose = 1)\n",
    "\n",
    "# Wrap the base classifier with OneVsRestClassifier\n",
    "ovr_classifier = OneVsRestClassifier(base_cl)\n",
    "\n",
    "# Train the classifier\n",
    "ovr_classifier.fit(X_train,y_train)\n",
    "\n",
    "# Predict labels\n",
    "y_pred = ovr_classifier.predict(X_test)\n",
    "\n",
    "# Calculate the accuracy\n",
    "score = accuracy_score(y_test, y_pred)"
   ]
  },
  {
   "cell_type": "code",
   "execution_count": null,
   "id": "462b548f-aac2-40d6-9ffa-33e744f5deb8",
   "metadata": {},
   "outputs": [],
   "source": []
  }
 ],
 "metadata": {
  "kernelspec": {
   "display_name": "Python 3 (ipykernel)",
   "language": "python",
   "name": "python3"
  },
  "language_info": {
   "codemirror_mode": {
    "name": "ipython",
    "version": 3
   },
   "file_extension": ".py",
   "mimetype": "text/x-python",
   "name": "python",
   "nbconvert_exporter": "python",
   "pygments_lexer": "ipython3",
   "version": "3.12.4"
  }
 },
 "nbformat": 4,
 "nbformat_minor": 5
}
