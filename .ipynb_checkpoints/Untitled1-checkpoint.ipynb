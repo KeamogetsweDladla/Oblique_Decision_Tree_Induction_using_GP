{
 "cells": [
  {
   "cell_type": "code",
   "execution_count": 2,
   "id": "b9f2e99a-00a7-43d2-a394-054d9d61d3c8",
   "metadata": {},
   "outputs": [
    {
     "ename": "ModuleNotFoundError",
     "evalue": "No module named 'ohmt'",
     "output_type": "error",
     "traceback": [
      "\u001b[1;31m---------------------------------------------------------------------------\u001b[0m",
      "\u001b[1;31mModuleNotFoundError\u001b[0m                       Traceback (most recent call last)",
      "Cell \u001b[1;32mIn[2], line 1\u001b[0m\n\u001b[1;32m----> 1\u001b[0m \u001b[38;5;28;01mfrom\u001b[39;00m \u001b[38;5;21;01mohmt\u001b[39;00m\u001b[38;5;21;01m.\u001b[39;00m\u001b[38;5;21;01mtrees\u001b[39;00m\u001b[38;5;21;01m.\u001b[39;00m\u001b[38;5;21;01munivariate\u001b[39;00m\u001b[38;5;21;01m.\u001b[39;00m\u001b[38;5;21;01mc4\u001b[39;00m \u001b[38;5;28;01mimport\u001b[39;00m C45\n\u001b[0;32m      2\u001b[0m \u001b[38;5;28;01mfrom\u001b[39;00m \u001b[38;5;21;01mohmt\u001b[39;00m\u001b[38;5;21;01m.\u001b[39;00m\u001b[38;5;21;01mtrees\u001b[39;00m\u001b[38;5;21;01m.\u001b[39;00m\u001b[38;5;21;01msplits\u001b[39;00m\u001b[38;5;21;01m.\u001b[39;00m\u001b[38;5;21;01mevaluation\u001b[39;00m \u001b[38;5;28;01mimport\u001b[39;00m gini\n\u001b[0;32m      3\u001b[0m \u001b[38;5;66;03m# Import the databases\u001b[39;00m\n",
      "\u001b[1;31mModuleNotFoundError\u001b[0m: No module named 'ohmt'"
     ]
    }
   ],
   "source": [
    "from ohmt.trees.univariate.c4 import C45\n",
    "from ohmt.trees.splits.evaluation import gini\n",
    "# Import the databases\n",
    "from ucimlrepo import fetch_ucirepo \n",
    "  \n",
    "# fetch datasets\n",
    "iris = fetch_ucirepo(id=53) \n",
    "\n",
    "dt = OmnivariateDT()\n",
    "X = iris.data.features \n",
    "y = iris.data.targets \n",
    "\n",
    "# trees all follow a similar sklearn-like training interface, with max_depth, min_samples, and min_eps as available parameters\n",
    "dt.fit(X, y, max_depth=4)"
   ]
  },
  {
   "cell_type": "code",
   "execution_count": null,
   "id": "d3c48bb3-44da-41ab-bd6d-8a2aec1160ad",
   "metadata": {},
   "outputs": [],
   "source": []
  }
 ],
 "metadata": {
  "kernelspec": {
   "display_name": "Python 3 (ipykernel)",
   "language": "python",
   "name": "python3"
  },
  "language_info": {
   "codemirror_mode": {
    "name": "ipython",
    "version": 3
   },
   "file_extension": ".py",
   "mimetype": "text/x-python",
   "name": "python",
   "nbconvert_exporter": "python",
   "pygments_lexer": "ipython3",
   "version": "3.12.4"
  }
 },
 "nbformat": 4,
 "nbformat_minor": 5
}
