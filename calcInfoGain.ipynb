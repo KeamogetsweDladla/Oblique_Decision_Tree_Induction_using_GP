{
 "cells": [
  {
   "cell_type": "code",
   "execution_count": 1,
   "id": "42300a87-91cd-4de5-896b-9af38316f64d",
   "metadata": {},
   "outputs": [
    {
     "name": "stdout",
     "output_type": "stream",
     "text": [
      "Information Gain: 0.5623351446188083\n"
     ]
    }
   ],
   "source": [
    "import numpy as np\n",
    "from sklearn.metrics import mutual_info_score\n",
    "\n",
    "def calculate_information_gain(X, y, plane):\n",
    "    \"\"\"\n",
    "    Calculate the information gain on both sides of the plane. w is the weight matrix representing\n",
    "    the coefficients of the attributes. b is the threshold value\n",
    "    \n",
    "    Parameters:\n",
    "    X (numpy.ndarray): Feature matrix.\n",
    "    y (numpy.ndarray): Target vector.\n",
    "    plane (tuple): A tuple (w, b) representing the plane equation w^T * x + b = 0.\n",
    "    \n",
    "    Returns:\n",
    "    float: Information gain.\n",
    "    \"\"\"\n",
    "    w, b = plane\n",
    "    \n",
    "    # Calculate the side of the plane for each sample\n",
    "    side = np.dot(X, w) + b\n",
    "    \n",
    "    # Split the data based on the side of the plane\n",
    "    left_indices = np.where(side <= 0)[0]\n",
    "    right_indices = np.where(side > 0)[0]\n",
    "    \n",
    "    # Calculate the entropy before the split\n",
    "    entropy_before = mutual_info_score(y, y)\n",
    "    \n",
    "    # Calculate the entropy after the split\n",
    "    if len(left_indices) > 0 and len(right_indices) > 0:\n",
    "        entropy_left = mutual_info_score(y[left_indices], y[left_indices])\n",
    "        entropy_right = mutual_info_score(y[right_indices], y[right_indices])\n",
    "        \n",
    "        # Calculate the weighted average of the entropy after the split\n",
    "        entropy_after = (len(left_indices) / len(y)) * entropy_left + (len(right_indices) / len(y)) * entropy_right\n",
    "        \n",
    "        # Calculate the information gain\n",
    "        information_gain = entropy_before - entropy_after\n",
    "    else:\n",
    "        information_gain = 0\n",
    "    \n",
    "    return information_gain\n",
    "\n",
    "# Example usage\n",
    "X = np.array([[6, 2], [3, 5], [5, 6], [3, 8]])\n",
    "y = np.array([0, 1, 1, 1])\n",
    "plane = (np.array([2, -5]), -1)\n",
    "\n",
    "info_gain = calculate_information_gain(X, y, plane)\n",
    "print(f\"Information Gain: {info_gain}\")\n"
   ]
  },
  {
   "cell_type": "code",
   "execution_count": null,
   "id": "655bd484-767f-4ab9-a082-1e1d89687cfc",
   "metadata": {},
   "outputs": [],
   "source": []
  }
 ],
 "metadata": {
  "kernelspec": {
   "display_name": "Python 3 (ipykernel)",
   "language": "python",
   "name": "python3"
  },
  "language_info": {
   "codemirror_mode": {
    "name": "ipython",
    "version": 3
   },
   "file_extension": ".py",
   "mimetype": "text/x-python",
   "name": "python",
   "nbconvert_exporter": "python",
   "pygments_lexer": "ipython3",
   "version": "3.12.4"
  }
 },
 "nbformat": 4,
 "nbformat_minor": 5
}
