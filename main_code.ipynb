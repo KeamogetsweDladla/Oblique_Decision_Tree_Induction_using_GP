{
 "cells": [
  {
   "cell_type": "code",
   "execution_count": 1,
   "id": "9da5982d-4f3c-4ab9-9c23-af60d8490afb",
   "metadata": {},
   "outputs": [
    {
     "name": "stdout",
     "output_type": "stream",
     "text": [
      "Requirement already satisfied: graphviz in c:\\users\\keamogetswe dladla\\anaconda3\\lib\\site-packages (0.20.3)\n",
      "Requirement already satisfied: wheel in c:\\users\\keamogetswe dladla\\anaconda3\\lib\\site-packages (0.44.0)\n",
      "Requirement already satisfied: ucimlrepo in c:\\users\\keamogetswe dladla\\anaconda3\\lib\\site-packages (0.0.7)\n",
      "Requirement already satisfied: pandas>=1.0.0 in c:\\users\\keamogetswe dladla\\anaconda3\\lib\\site-packages (from ucimlrepo) (2.2.2)\n",
      "Requirement already satisfied: certifi>=2020.12.5 in c:\\users\\keamogetswe dladla\\anaconda3\\lib\\site-packages (from ucimlrepo) (2024.7.4)\n",
      "Requirement already satisfied: numpy>=1.26.0 in c:\\users\\keamogetswe dladla\\anaconda3\\lib\\site-packages (from pandas>=1.0.0->ucimlrepo) (1.26.4)\n",
      "Requirement already satisfied: python-dateutil>=2.8.2 in c:\\users\\keamogetswe dladla\\anaconda3\\lib\\site-packages (from pandas>=1.0.0->ucimlrepo) (2.9.0.post0)\n",
      "Requirement already satisfied: pytz>=2020.1 in c:\\users\\keamogetswe dladla\\anaconda3\\lib\\site-packages (from pandas>=1.0.0->ucimlrepo) (2024.1)\n",
      "Requirement already satisfied: tzdata>=2022.7 in c:\\users\\keamogetswe dladla\\anaconda3\\lib\\site-packages (from pandas>=1.0.0->ucimlrepo) (2023.3)\n",
      "Requirement already satisfied: six>=1.5 in c:\\users\\keamogetswe dladla\\anaconda3\\lib\\site-packages (from python-dateutil>=2.8.2->pandas>=1.0.0->ucimlrepo) (1.16.0)\n"
     ]
    }
   ],
   "source": [
    "!pip install graphviz\n",
    "!pip install wheel\n",
    "\n",
    "# Install the UIC repo\n",
    "!pip install ucimlrepo\n",
    "\n",
    "from gplearn.genetic import SymbolicClassifier\n",
    "from sklearn.metrics import accuracy_score\n",
    "from sklearn.model_selection import train_test_split, cross_val_score, StratifiedShuffleSplit, cross_validate\n",
    "from sklearn.preprocessing import StandardScaler\n",
    "from sklearn.tree import DecisionTreeClassifier\n",
    "import pandas as pd \n",
    "from statistics import mean \n",
    "from statistics import stdev\n",
    "import warnings\n",
    "\n",
    "# Ignore all warnings\n",
    "warnings.filterwarnings('ignore')\n"
   ]
  },
  {
   "cell_type": "code",
   "execution_count": 2,
   "id": "83efe1a3-350b-41c9-a95d-6c7ab67dd188",
   "metadata": {},
   "outputs": [],
   "source": [
    "# Import the databases\n",
    "from ucimlrepo import fetch_ucirepo \n",
    "  \n",
    "# fetch datasets\n",
    "iris = fetch_ucirepo(id=53) \n",
    "wine_quality = fetch_ucirepo(id=186) \n",
    "rice_cammeo_and_osmancik = fetch_ucirepo(id=545) \n",
    "breast_cancer_wisconsin_original = fetch_ucirepo(id=15) \n",
    "magic_gamma_telescope = fetch_ucirepo(id=159) \n",
    "banknote_authentication = fetch_ucirepo(id=267)\n",
    "yeast = fetch_ucirepo(id=110)\n",
    "letter_recognition = fetch_ucirepo(id=59) "
   ]
  },
  {
   "cell_type": "code",
   "execution_count": 78,
   "id": "fb17a5aa-ca94-4402-b1dc-98e4b99c29ee",
   "metadata": {},
   "outputs": [
    {
     "ename": "SyntaxError",
     "evalue": "invalid syntax (1895485411.py, line 9)",
     "output_type": "error",
     "traceback": [
      "\u001b[1;36m  Cell \u001b[1;32mIn[78], line 9\u001b[1;36m\u001b[0m\n\u001b[1;33m    python -m !pip install git+https://github.com/AndriyMulyar/sklearn-oblique-tree\u001b[0m\n\u001b[1;37m              ^\u001b[0m\n\u001b[1;31mSyntaxError\u001b[0m\u001b[1;31m:\u001b[0m invalid syntax\n"
     ]
    }
   ],
   "source": [
    "# Configure the classifiers\n",
    "\n",
    "#----------------------------------------------------------------------------------------------\n",
    "# CART\n",
    "from sklearn.tree import DecisionTreeClassifier\n",
    "\n",
    "#----------------------------------------------------------------------------------------------\n",
    "# OC1\n",
    "python -m !pip install git+https://github.com/AndriyMulyar/sklearn-oblique-tree\n",
    "from sklearn_oblique_tree.oblique import ObliqueTree\n",
    "#tree = ObliqueTree(splitter=\"oc1\", number_of_restarts=10, max_perturbations=5, random_state=0)\n",
    "#tree.fit(X_train, y_train)\n",
    "\n",
    "#----------------------------------------------------------------------------------------------\n",
    "# HHCART\n",
    "!pip install scikit-obliquetree\n",
    "from scikit_obliquetree.HHCART import HouseHolderCART\n",
    "from sklearn.ensemble import BaggingRegressor\n",
    "#reg = BaggingRegressor(\n",
    "#    HouseHolderCART(MSE(), MeanSegmentor(), max_depth=3),\n",
    "#    n_estimators=100,\n",
    "#    n_jobs=-1,\n",
    "#)\n",
    "#print('CV Score', cross_val_score(reg, X, y))\n"
   ]
  },
  {
   "cell_type": "code",
   "execution_count": 6,
   "id": "91bb369e-d6fc-4ba2-b532-4dc8cad01b48",
   "metadata": {},
   "outputs": [
    {
     "data": {
      "text/html": [
       "<div>\n",
       "<style scoped>\n",
       "    .dataframe tbody tr th:only-of-type {\n",
       "        vertical-align: middle;\n",
       "    }\n",
       "\n",
       "    .dataframe tbody tr th {\n",
       "        vertical-align: top;\n",
       "    }\n",
       "\n",
       "    .dataframe thead th {\n",
       "        text-align: right;\n",
       "    }\n",
       "</style>\n",
       "<table border=\"1\" class=\"dataframe\">\n",
       "  <thead>\n",
       "    <tr style=\"text-align: right;\">\n",
       "      <th></th>\n",
       "      <th>mean_score</th>\n",
       "      <th>mean_std</th>\n",
       "    </tr>\n",
       "    <tr>\n",
       "      <th>database</th>\n",
       "      <th></th>\n",
       "      <th></th>\n",
       "    </tr>\n",
       "  </thead>\n",
       "  <tbody>\n",
       "    <tr>\n",
       "      <th>iris</th>\n",
       "      <td>0.9440</td>\n",
       "      <td>0.1012</td>\n",
       "    </tr>\n",
       "    <tr>\n",
       "      <th>wine_quality</th>\n",
       "      <td>0.5028</td>\n",
       "      <td>0.0313</td>\n",
       "    </tr>\n",
       "    <tr>\n",
       "      <th>rice_cammeo_and_osmancik</th>\n",
       "      <td>0.8877</td>\n",
       "      <td>0.0231</td>\n",
       "    </tr>\n",
       "    <tr>\n",
       "      <th>breast_cancer_wisconsin_original</th>\n",
       "      <td>0.9377</td>\n",
       "      <td>0.0424</td>\n",
       "    </tr>\n",
       "    <tr>\n",
       "      <th>magic_gamma_telescope</th>\n",
       "      <td>0.8047</td>\n",
       "      <td>0.0149</td>\n",
       "    </tr>\n",
       "    <tr>\n",
       "      <th>banknote_authentication</th>\n",
       "      <td>0.9689</td>\n",
       "      <td>0.0276</td>\n",
       "    </tr>\n",
       "    <tr>\n",
       "      <th>yeast</th>\n",
       "      <td>0.4701</td>\n",
       "      <td>0.0714</td>\n",
       "    </tr>\n",
       "    <tr>\n",
       "      <th>letter_recognition</th>\n",
       "      <td>0.8042</td>\n",
       "      <td>0.0138</td>\n",
       "    </tr>\n",
       "  </tbody>\n",
       "</table>\n",
       "</div>"
      ],
      "text/plain": [
       "                                  mean_score  mean_std\n",
       "database                                              \n",
       "iris                                  0.9440    0.1012\n",
       "wine_quality                          0.5028    0.0313\n",
       "rice_cammeo_and_osmancik              0.8877    0.0231\n",
       "breast_cancer_wisconsin_original      0.9377    0.0424\n",
       "magic_gamma_telescope                 0.8047    0.0149\n",
       "banknote_authentication               0.9689    0.0276\n",
       "yeast                                 0.4701    0.0714\n",
       "letter_recognition                    0.8042    0.0138"
      ]
     },
     "execution_count": 6,
     "metadata": {},
     "output_type": "execute_result"
    }
   ],
   "source": [
    "# Experiment 1: Proposed method against Standard Decision Tree Algorithm\n",
    "\n",
    "datasets = [iris, wine_quality,rice_cammeo_and_osmancik,breast_cancer_wisconsin_original,\n",
    "            magic_gamma_telescope, banknote_authentication, yeast, letter_recognition]\n",
    "\n",
    "datasets_strings = ['iris', 'wine_quality','rice_cammeo_and_osmancik','breast_cancer_wisconsin_original',\n",
    "            'magic_gamma_telescope', 'banknote_authentication', 'yeast', 'letter_recognition']\n",
    "\n",
    "\n",
    "# Create an empty dataframe \n",
    "col_names =  ['database', 'mean_score', 'mean_std'] \n",
    "cart_df  = pd.DataFrame(columns = col_names) \n",
    "cart_df['database'] = datasets_strings\n",
    "\n",
    "# Iterate over datasets\n",
    "acc_scores = []\n",
    "std_scores = []\n",
    "for ds_cnt, ds in enumerate(datasets):\n",
    "    # Preprocess dataset, and split into training and test sets\n",
    "    # data as pandas dataframes \n",
    "    X = ds.data.features \n",
    "    y = ds.data.targets \n",
    "    X = StandardScaler().fit_transform(X)\n",
    "\n",
    "    sss = StratifiedShuffleSplit(n_splits=10, test_size=0.3)    \n",
    "    dtc = DecisionTreeClassifier()\n",
    "\n",
    "    acc_each_run = []\n",
    "    std_each_run = []\n",
    "    \n",
    "    for train_index, test_index in sss.split(X, y):\n",
    "            X_train, X_test = X[train_index], X[test_index]\n",
    "            y_train, y_test = y.iloc[train_index], y.iloc[test_index]\n",
    "\n",
    "            model = dtc.fit(X_train, y_train)\n",
    "            score = cross_val_score(model, X_test, y_test, cv=10)\n",
    "            acc_each_run.append(score.mean().round(3))\n",
    "            std_each_run.append(score.std().round(3))\n",
    "\n",
    "    ave_score = mean(acc_each_run)\n",
    "    ave_std = mean(std_each_run)\n",
    "\n",
    "    acc_scores.append(ave_score)\n",
    "    std_scores.append(ave_std)\n",
    "\n",
    "cart_df[ 'mean_score'] = acc_scores\n",
    "cart_df[ 'mean_std'] = std_scores\n",
    "cart_df.set_index(\"database\", inplace = True)\n",
    "cart_df"
   ]
  },
  {
   "cell_type": "code",
   "execution_count": 313,
   "id": "9bda2c4f-e153-4b79-b197-f6553fdedda8",
   "metadata": {},
   "outputs": [
    {
     "name": "stdout",
     "output_type": "stream",
     "text": [
      "Requirement already satisfied: scikit-obliquetree in c:\\users\\keamogetswe dladla\\anaconda3\\lib\\site-packages (0.1.4)\n",
      "Requirement already satisfied: rich<10.0.0,>=9.8.2 in c:\\users\\keamogetswe dladla\\anaconda3\\lib\\site-packages (from scikit-obliquetree) (9.13.0)\n",
      "Requirement already satisfied: typer<0.4.0,>=0.3.2 in c:\\users\\keamogetswe dladla\\anaconda3\\lib\\site-packages (from typer[all]<0.4.0,>=0.3.2->scikit-obliquetree) (0.3.2)\n",
      "Requirement already satisfied: colorama<0.5.0,>=0.4.0 in c:\\users\\keamogetswe dladla\\anaconda3\\lib\\site-packages (from rich<10.0.0,>=9.8.2->scikit-obliquetree) (0.4.6)\n",
      "Requirement already satisfied: commonmark<0.10.0,>=0.9.0 in c:\\users\\keamogetswe dladla\\anaconda3\\lib\\site-packages (from rich<10.0.0,>=9.8.2->scikit-obliquetree) (0.9.1)\n",
      "Requirement already satisfied: pygments<3.0.0,>=2.6.0 in c:\\users\\keamogetswe dladla\\anaconda3\\lib\\site-packages (from rich<10.0.0,>=9.8.2->scikit-obliquetree) (2.15.1)\n",
      "Requirement already satisfied: typing-extensions<4.0.0,>=3.7.4 in c:\\users\\keamogetswe dladla\\anaconda3\\lib\\site-packages (from rich<10.0.0,>=9.8.2->scikit-obliquetree) (3.10.0.2)\n",
      "Requirement already satisfied: click<7.2.0,>=7.1.1 in c:\\users\\keamogetswe dladla\\anaconda3\\lib\\site-packages (from typer<0.4.0,>=0.3.2->typer[all]<0.4.0,>=0.3.2->scikit-obliquetree) (7.1.2)\n",
      "Requirement already satisfied: shellingham<2.0.0,>=1.3.0 in c:\\users\\keamogetswe dladla\\anaconda3\\lib\\site-packages (from typer[all]<0.4.0,>=0.3.2->scikit-obliquetree) (1.5.4)\n"
     ]
    },
    {
     "ename": "KeyError",
     "evalue": "\"None of [Index([    0,     3,     4,     5,     6,     7,     8,     9,    10,    12,\\n       ...\\n       13975, 13983, 13985, 13986, 13987, 13988, 13989, 13990, 13991, 13998],\\n      dtype='int64', length=9064)] are in the [columns]\"",
     "output_type": "error",
     "traceback": [
      "\u001b[1;31m---------------------------------------------------------------------------\u001b[0m",
      "\u001b[1;31mKeyError\u001b[0m                                  Traceback (most recent call last)",
      "Cell \u001b[1;32mIn[313], line 15\u001b[0m\n\u001b[0;32m     12\u001b[0m classifier \u001b[38;5;241m=\u001b[39m HouseHolderCART(MSE(), segmentor\u001b[38;5;241m=\u001b[39msegmentor, max_depth\u001b[38;5;241m=\u001b[39m\u001b[38;5;241m5\u001b[39m, min_samples\u001b[38;5;241m=\u001b[39m\u001b[38;5;241m4\u001b[39m)\n\u001b[0;32m     14\u001b[0m \u001b[38;5;66;03m# Train the classifier\u001b[39;00m\n\u001b[1;32m---> 15\u001b[0m classifier\u001b[38;5;241m.\u001b[39mfit(x_train, y_train)\n\u001b[0;32m     17\u001b[0m \u001b[38;5;66;03m# Make predictions\u001b[39;00m\n\u001b[0;32m     18\u001b[0m y_pred \u001b[38;5;241m=\u001b[39m classifier\u001b[38;5;241m.\u001b[39mpredict(x_test)\n",
      "File \u001b[1;32m~\\anaconda3\\Lib\\site-packages\\scikit_obliquetree\\HHCART.py:165\u001b[0m, in \u001b[0;36mHouseHolderCART.fit\u001b[1;34m(self, X, y)\u001b[0m\n\u001b[0;32m    164\u001b[0m \u001b[38;5;28;01mdef\u001b[39;00m \u001b[38;5;21mfit\u001b[39m(\u001b[38;5;28mself\u001b[39m, X, y):\n\u001b[1;32m--> 165\u001b[0m     \u001b[38;5;28mself\u001b[39m\u001b[38;5;241m.\u001b[39m_root \u001b[38;5;241m=\u001b[39m \u001b[38;5;28mself\u001b[39m\u001b[38;5;241m.\u001b[39m_generate_node(X, y, \u001b[38;5;241m0\u001b[39m)\n",
      "File \u001b[1;32m~\\anaconda3\\Lib\\site-packages\\scikit_obliquetree\\HHCART.py:94\u001b[0m, in \u001b[0;36mHouseHolderCART._generate_node\u001b[1;34m(self, X, y, cur_depth)\u001b[0m\n\u001b[0;32m     92\u001b[0m \u001b[38;5;28;01melse\u001b[39;00m:\n\u001b[0;32m     93\u001b[0m     n_objects, n_features \u001b[38;5;241m=\u001b[39m X\u001b[38;5;241m.\u001b[39mshape\n\u001b[1;32m---> 94\u001b[0m     impurity_best, sr, left_indices, right_indices \u001b[38;5;241m=\u001b[39m \u001b[38;5;28mself\u001b[39m\u001b[38;5;241m.\u001b[39msegmentor(\n\u001b[0;32m     95\u001b[0m         X, y, \u001b[38;5;28mself\u001b[39m\u001b[38;5;241m.\u001b[39mimpurity\n\u001b[0;32m     96\u001b[0m     )\n\u001b[0;32m     97\u001b[0m     oblique_split \u001b[38;5;241m=\u001b[39m \u001b[38;5;28;01mFalse\u001b[39;00m\n\u001b[0;32m     99\u001b[0m     \u001b[38;5;66;03m# generate Housholder matrix\u001b[39;00m\n",
      "File \u001b[1;32m~\\anaconda3\\Lib\\site-packages\\scikit_obliquetree\\segmentor.py:90\u001b[0m, in \u001b[0;36mSegmentorBase.__call__\u001b[1;34m(self, X, y, impurity)\u001b[0m\n\u001b[0;32m     85\u001b[0m \u001b[38;5;28;01mfor\u001b[39;00m left_i, right_i, split_rule \u001b[38;5;129;01min\u001b[39;00m splits:\n\u001b[0;32m     86\u001b[0m     \u001b[38;5;28;01mif\u001b[39;00m (\n\u001b[0;32m     87\u001b[0m         left_i\u001b[38;5;241m.\u001b[39msize \u001b[38;5;241m>\u001b[39m\u001b[38;5;241m=\u001b[39m \u001b[38;5;28mself\u001b[39m\u001b[38;5;241m.\u001b[39m_min_samples_leaf\n\u001b[0;32m     88\u001b[0m         \u001b[38;5;129;01mand\u001b[39;00m right_i\u001b[38;5;241m.\u001b[39msize \u001b[38;5;241m>\u001b[39m\u001b[38;5;241m=\u001b[39m \u001b[38;5;28mself\u001b[39m\u001b[38;5;241m.\u001b[39m_min_samples_leaf\n\u001b[0;32m     89\u001b[0m     ):\n\u001b[1;32m---> 90\u001b[0m         left_labels, right_labels \u001b[38;5;241m=\u001b[39m y[left_i], y[right_i]\n\u001b[0;32m     91\u001b[0m         cur_impurity \u001b[38;5;241m=\u001b[39m impurity(left_labels, right_labels)\n\u001b[0;32m     92\u001b[0m         \u001b[38;5;28;01mif\u001b[39;00m cur_impurity \u001b[38;5;241m<\u001b[39m best_impurity:\n",
      "File \u001b[1;32m~\\anaconda3\\Lib\\site-packages\\pandas\\core\\frame.py:4108\u001b[0m, in \u001b[0;36mDataFrame.__getitem__\u001b[1;34m(self, key)\u001b[0m\n\u001b[0;32m   4106\u001b[0m     \u001b[38;5;28;01mif\u001b[39;00m is_iterator(key):\n\u001b[0;32m   4107\u001b[0m         key \u001b[38;5;241m=\u001b[39m \u001b[38;5;28mlist\u001b[39m(key)\n\u001b[1;32m-> 4108\u001b[0m     indexer \u001b[38;5;241m=\u001b[39m \u001b[38;5;28mself\u001b[39m\u001b[38;5;241m.\u001b[39mcolumns\u001b[38;5;241m.\u001b[39m_get_indexer_strict(key, \u001b[38;5;124m\"\u001b[39m\u001b[38;5;124mcolumns\u001b[39m\u001b[38;5;124m\"\u001b[39m)[\u001b[38;5;241m1\u001b[39m]\n\u001b[0;32m   4110\u001b[0m \u001b[38;5;66;03m# take() does not accept boolean indexers\u001b[39;00m\n\u001b[0;32m   4111\u001b[0m \u001b[38;5;28;01mif\u001b[39;00m \u001b[38;5;28mgetattr\u001b[39m(indexer, \u001b[38;5;124m\"\u001b[39m\u001b[38;5;124mdtype\u001b[39m\u001b[38;5;124m\"\u001b[39m, \u001b[38;5;28;01mNone\u001b[39;00m) \u001b[38;5;241m==\u001b[39m \u001b[38;5;28mbool\u001b[39m:\n",
      "File \u001b[1;32m~\\anaconda3\\Lib\\site-packages\\pandas\\core\\indexes\\base.py:6200\u001b[0m, in \u001b[0;36mIndex._get_indexer_strict\u001b[1;34m(self, key, axis_name)\u001b[0m\n\u001b[0;32m   6197\u001b[0m \u001b[38;5;28;01melse\u001b[39;00m:\n\u001b[0;32m   6198\u001b[0m     keyarr, indexer, new_indexer \u001b[38;5;241m=\u001b[39m \u001b[38;5;28mself\u001b[39m\u001b[38;5;241m.\u001b[39m_reindex_non_unique(keyarr)\n\u001b[1;32m-> 6200\u001b[0m \u001b[38;5;28mself\u001b[39m\u001b[38;5;241m.\u001b[39m_raise_if_missing(keyarr, indexer, axis_name)\n\u001b[0;32m   6202\u001b[0m keyarr \u001b[38;5;241m=\u001b[39m \u001b[38;5;28mself\u001b[39m\u001b[38;5;241m.\u001b[39mtake(indexer)\n\u001b[0;32m   6203\u001b[0m \u001b[38;5;28;01mif\u001b[39;00m \u001b[38;5;28misinstance\u001b[39m(key, Index):\n\u001b[0;32m   6204\u001b[0m     \u001b[38;5;66;03m# GH 42790 - Preserve name from an Index\u001b[39;00m\n",
      "File \u001b[1;32m~\\anaconda3\\Lib\\site-packages\\pandas\\core\\indexes\\base.py:6249\u001b[0m, in \u001b[0;36mIndex._raise_if_missing\u001b[1;34m(self, key, indexer, axis_name)\u001b[0m\n\u001b[0;32m   6247\u001b[0m \u001b[38;5;28;01mif\u001b[39;00m nmissing:\n\u001b[0;32m   6248\u001b[0m     \u001b[38;5;28;01mif\u001b[39;00m nmissing \u001b[38;5;241m==\u001b[39m \u001b[38;5;28mlen\u001b[39m(indexer):\n\u001b[1;32m-> 6249\u001b[0m         \u001b[38;5;28;01mraise\u001b[39;00m \u001b[38;5;167;01mKeyError\u001b[39;00m(\u001b[38;5;124mf\u001b[39m\u001b[38;5;124m\"\u001b[39m\u001b[38;5;124mNone of [\u001b[39m\u001b[38;5;132;01m{\u001b[39;00mkey\u001b[38;5;132;01m}\u001b[39;00m\u001b[38;5;124m] are in the [\u001b[39m\u001b[38;5;132;01m{\u001b[39;00maxis_name\u001b[38;5;132;01m}\u001b[39;00m\u001b[38;5;124m]\u001b[39m\u001b[38;5;124m\"\u001b[39m)\n\u001b[0;32m   6251\u001b[0m     not_found \u001b[38;5;241m=\u001b[39m \u001b[38;5;28mlist\u001b[39m(ensure_index(key)[missing_mask\u001b[38;5;241m.\u001b[39mnonzero()[\u001b[38;5;241m0\u001b[39m]]\u001b[38;5;241m.\u001b[39munique())\n\u001b[0;32m   6252\u001b[0m     \u001b[38;5;28;01mraise\u001b[39;00m \u001b[38;5;167;01mKeyError\u001b[39;00m(\u001b[38;5;124mf\u001b[39m\u001b[38;5;124m\"\u001b[39m\u001b[38;5;132;01m{\u001b[39;00mnot_found\u001b[38;5;132;01m}\u001b[39;00m\u001b[38;5;124m not in index\u001b[39m\u001b[38;5;124m\"\u001b[39m)\n",
      "\u001b[1;31mKeyError\u001b[0m: \"None of [Index([    0,     3,     4,     5,     6,     7,     8,     9,    10,    12,\\n       ...\\n       13975, 13983, 13985, 13986, 13987, 13988, 13989, 13990, 13991, 13998],\\n      dtype='int64', length=9064)] are in the [columns]\""
     ]
    }
   ],
   "source": [
    "!pip install scikit-obliquetree\n",
    "from scikit_obliquetree.HHCART import HouseHolderCART\n",
    "from sklearn.ensemble import GradientBoostingClassifier\n",
    "from sklearn.metrics import accuracy_score\n",
    "from scikit_obliquetree.segmentor import MeanSegmentor, MSE\n",
    "\n",
    "# Load the Iris dataset\n",
    "x_train, x_test, y_train, y_test = train_test_split(X, y, test_size=0.3 )\n",
    "\n",
    "# Initialize the Segmentor and the classifier\n",
    "segmentor = MeanSegmentor()\n",
    "classifier = HouseHolderCART(MSE(), segmentor=segmentor, max_depth=5, min_samples=4)\n",
    "\n",
    "# Train the classifier\n",
    "classifier.fit(x_train, y_train)\n",
    "\n",
    "# Make predictions\n",
    "y_pred = classifier.predict(x_test)\n",
    "\n",
    "# Evaluate the classifier\n",
    "accuracy = accuracy_score(y_test, y_pred)\n",
    "accuracy"
   ]
  },
  {
   "cell_type": "code",
   "execution_count": 74,
   "id": "61f9cb83-b5ae-455a-9f42-c752fb40ba1b",
   "metadata": {
    "scrolled": true
   },
   "outputs": [
    {
     "ename": "ModuleNotFoundError",
     "evalue": "No module named 'sklearn_oblique_tree.oblique._oblique'",
     "output_type": "error",
     "traceback": [
      "\u001b[1;31m---------------------------------------------------------------------------\u001b[0m",
      "\u001b[1;31mModuleNotFoundError\u001b[0m                       Traceback (most recent call last)",
      "Cell \u001b[1;32mIn[74], line 4\u001b[0m\n\u001b[0;32m      1\u001b[0m \u001b[38;5;66;03m#!pip install sklearn-oblique-tree \u001b[39;00m\n\u001b[0;32m      2\u001b[0m \u001b[38;5;66;03m#from sklearn_oblique_tree.oblique import ObliqueTree\u001b[39;00m\n\u001b[1;32m----> 4\u001b[0m \u001b[38;5;28;01mfrom\u001b[39;00m \u001b[38;5;21;01msklearn_oblique_tree\u001b[39;00m\u001b[38;5;21;01m.\u001b[39;00m\u001b[38;5;21;01moblique\u001b[39;00m\u001b[38;5;21;01m.\u001b[39;00m\u001b[38;5;21;01moblique\u001b[39;00m \u001b[38;5;28;01mimport\u001b[39;00m ObliqueTree\n",
      "File \u001b[1;32m~\\Documents\\GitHub\\Oblique_Decision_Tree_Induction_using_GP\\sklearn_oblique_tree\\oblique\\__init__.py:1\u001b[0m\n\u001b[1;32m----> 1\u001b[0m \u001b[38;5;28;01mfrom\u001b[39;00m \u001b[38;5;21;01m.\u001b[39;00m\u001b[38;5;21;01moblique\u001b[39;00m \u001b[38;5;28;01mimport\u001b[39;00m ObliqueTree\n",
      "File \u001b[1;32m~\\Documents\\GitHub\\Oblique_Decision_Tree_Induction_using_GP\\sklearn_oblique_tree\\oblique\\oblique.py:4\u001b[0m\n\u001b[0;32m      2\u001b[0m \u001b[38;5;28;01mfrom\u001b[39;00m \u001b[38;5;21;01msklearn\u001b[39;00m\u001b[38;5;21;01m.\u001b[39;00m\u001b[38;5;21;01mutils\u001b[39;00m\u001b[38;5;21;01m.\u001b[39;00m\u001b[38;5;21;01mvalidation\u001b[39;00m \u001b[38;5;28;01mimport\u001b[39;00m check_X_y, check_array, check_is_fitted, check_random_state\n\u001b[0;32m      3\u001b[0m \u001b[38;5;28;01mfrom\u001b[39;00m \u001b[38;5;21;01msklearn\u001b[39;00m\u001b[38;5;21;01m.\u001b[39;00m\u001b[38;5;21;01mutils\u001b[39;00m\u001b[38;5;21;01m.\u001b[39;00m\u001b[38;5;21;01mmulticlass\u001b[39;00m \u001b[38;5;28;01mimport\u001b[39;00m unique_labels\n\u001b[1;32m----> 4\u001b[0m \u001b[38;5;28;01mfrom\u001b[39;00m \u001b[38;5;21;01m.\u001b[39;00m\u001b[38;5;21;01m_oblique\u001b[39;00m \u001b[38;5;28;01mimport\u001b[39;00m Tree\n\u001b[0;32m      6\u001b[0m \u001b[38;5;28;01mclass\u001b[39;00m \u001b[38;5;21;01mObliqueTree\u001b[39;00m(BaseEstimator, ClassifierMixin):\n\u001b[0;32m      9\u001b[0m     \u001b[38;5;28;01mdef\u001b[39;00m \u001b[38;5;21m__init__\u001b[39m(\u001b[38;5;28mself\u001b[39m, splitter\u001b[38;5;241m=\u001b[39m\u001b[38;5;124m\"\u001b[39m\u001b[38;5;124moc1, axis_parallel\u001b[39m\u001b[38;5;124m\"\u001b[39m, number_of_restarts\u001b[38;5;241m=\u001b[39m\u001b[38;5;241m20\u001b[39m, max_perturbations\u001b[38;5;241m=\u001b[39m\u001b[38;5;241m5\u001b[39m, random_state\u001b[38;5;241m=\u001b[39m\u001b[38;5;241m1\u001b[39m):\n",
      "\u001b[1;31mModuleNotFoundError\u001b[0m: No module named 'sklearn_oblique_tree.oblique._oblique'"
     ]
    }
   ],
   "source": [
    "#!pip install sklearn-oblique-tree \n",
    "#from sklearn_oblique_tree.oblique import ObliqueTree\n",
    "\n",
    "from sklearn_oblique_tree.oblique.oblique import ObliqueTree\n"
   ]
  },
  {
   "cell_type": "code",
   "execution_count": 82,
   "id": "7322803f-7041-47cf-af26-23b2c16b1122",
   "metadata": {},
   "outputs": [
    {
     "name": "stderr",
     "output_type": "stream",
     "text": [
      "ERROR: Ignored the following versions that require a different python version: 0.0.1 Requires-Python <3.12,>=3.11; 0.0.2 Requires-Python <3.12,>=3.11; 0.0.3 Requires-Python <3.12,>=3.11\n",
      "ERROR: Could not find a version that satisfies the requirement ohmt (from versions: none)\n",
      "ERROR: No matching distribution found for ohmt\n"
     ]
    },
    {
     "ename": "ModuleNotFoundError",
     "evalue": "No module named 'ohmt'",
     "output_type": "error",
     "traceback": [
      "\u001b[1;31m---------------------------------------------------------------------------\u001b[0m",
      "\u001b[1;31mModuleNotFoundError\u001b[0m                       Traceback (most recent call last)",
      "Cell \u001b[1;32mIn[82], line 2\u001b[0m\n\u001b[0;32m      1\u001b[0m get_ipython()\u001b[38;5;241m.\u001b[39msystem(\u001b[38;5;124m'\u001b[39m\u001b[38;5;124mpip install ohmt\u001b[39m\u001b[38;5;124m'\u001b[39m)\n\u001b[1;32m----> 2\u001b[0m \u001b[38;5;28;01mfrom\u001b[39;00m \u001b[38;5;21;01mohmt\u001b[39;00m\u001b[38;5;21;01m.\u001b[39;00m\u001b[38;5;21;01mtrees\u001b[39;00m\u001b[38;5;21;01m.\u001b[39;00m\u001b[38;5;21;01mmultivariate\u001b[39;00m\u001b[38;5;21;01m.\u001b[39;00m\u001b[38;5;21;01momnivariate\u001b[39;00m \u001b[38;5;28;01mimport\u001b[39;00m OmnivariateDT\n\u001b[0;32m      3\u001b[0m \u001b[38;5;28;01mfrom\u001b[39;00m \u001b[38;5;21;01mohmt\u001b[39;00m\u001b[38;5;21;01m.\u001b[39;00m\u001b[38;5;21;01mtrees\u001b[39;00m\u001b[38;5;21;01m.\u001b[39;00m\u001b[38;5;21;01msplits\u001b[39;00m\u001b[38;5;21;01m.\u001b[39;00m\u001b[38;5;21;01mevaluation\u001b[39;00m \u001b[38;5;28;01mimport\u001b[39;00m gini\n\u001b[0;32m      5\u001b[0m df \u001b[38;5;241m=\u001b[39m load_dataset(\u001b[38;5;124m\"\u001b[39m\u001b[38;5;124mmstz/adult\u001b[39m\u001b[38;5;124m\"\u001b[39m, \u001b[38;5;124m\"\u001b[39m\u001b[38;5;124mincome\u001b[39m\u001b[38;5;124m\"\u001b[39m)[\u001b[38;5;124m\"\u001b[39m\u001b[38;5;124mtrain\u001b[39m\u001b[38;5;124m\"\u001b[39m]\u001b[38;5;241m.\u001b[39mto_pandas()\n",
      "\u001b[1;31mModuleNotFoundError\u001b[0m: No module named 'ohmt'"
     ]
    }
   ],
   "source": [
    "\n",
    "!pip install ohmt\n",
    "from ohmt.trees.multivariate.omnivariate import OmnivariateDT\n",
    "from ohmt.trees.splits.evaluation import gini\n",
    "\n",
    "df = load_dataset(\"mstz/adult\", \"income\")[\"train\"].to_pandas()\n",
    "df_test = load_dataset(\"mstz/adult\", \"income\")[\"test\"].to_pandas()\n",
    "\n",
    "tree = OmnivariateDT()\n",
    "tree = tree.fit(train_features, train_labels, max_depth=8, min_eps=0.000000000000001, min_samples=10,\n",
    "                node_fitness_function=gini)"
   ]
  },
  {
   "cell_type": "code",
   "execution_count": 94,
   "id": "7e20d187-c8d4-456c-acae-5e5ca599a686",
   "metadata": {},
   "outputs": [
    {
     "ename": "SyntaxError",
     "evalue": "invalid syntax (560040011.py, line 1)",
     "output_type": "error",
     "traceback": [
      "\u001b[1;36m  Cell \u001b[1;32mIn[94], line 1\u001b[1;36m\u001b[0m\n\u001b[1;33m    pyenv install <version>\u001b[0m\n\u001b[1;37m          ^\u001b[0m\n\u001b[1;31mSyntaxError\u001b[0m\u001b[1;31m:\u001b[0m invalid syntax\n"
     ]
    }
   ],
   "source": [
    "pyenv install <version>"
   ]
  },
  {
   "cell_type": "code",
   "execution_count": null,
   "id": "4a482373-4f0a-4ffe-8e91-c599681eefe4",
   "metadata": {},
   "outputs": [],
   "source": []
  }
 ],
 "metadata": {
  "kernelspec": {
   "display_name": "Python 3 (ipykernel)",
   "language": "python",
   "name": "python3"
  },
  "language_info": {
   "codemirror_mode": {
    "name": "ipython",
    "version": 3
   },
   "file_extension": ".py",
   "mimetype": "text/x-python",
   "name": "python",
   "nbconvert_exporter": "python",
   "pygments_lexer": "ipython3",
   "version": "3.12.4"
  }
 },
 "nbformat": 4,
 "nbformat_minor": 5
}
