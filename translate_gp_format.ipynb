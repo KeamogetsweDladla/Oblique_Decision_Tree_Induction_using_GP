{
 "cells": [
  {
   "cell_type": "code",
   "execution_count": 45,
   "id": "67e97696-48a2-4927-81b2-6f47398295aa",
   "metadata": {},
   "outputs": [],
   "source": [
    "import ast\n",
    "\n",
    "def translate_gp_format(genetic_program): \n",
    "    \"\"\"\n",
    "\n",
    "    Tree parsing algorithm \n",
    "    Parameters:\n",
    "    genetic_program: Genetic program\n",
    "    \n",
    "    Returns:\n",
    "    Translated Genetic program in simplest polynomial format\n",
    "    \"\"\"\n",
    "    expression = str(genetic_program)\n",
    "\n",
    "    # replace the numerical constants with a symbol \n",
    "    \n",
    "\n",
    "    def transform_expression(expression):\n",
    "    # Parse the expression into an AST\n",
    "        tree = ast.parse(expression, mode='eval')\n",
    "        def transform(node):\n",
    "            if isinstance(node, ast.Call):\n",
    "                func_name = node.func.id\n",
    "                args = [transform(arg) for arg in node.args]\n",
    "                return [func_name] + args\n",
    "            elif isinstance(node, ast.Name):\n",
    "                return node.id\n",
    "            elif isinstance(node, ast.Constant):\n",
    "                return node.value\n",
    "            else:\n",
    "                raise ValueError(f\"Unsupported AST node type: {type(node)}\")\n",
    "\n",
    "        return transform(tree.body)\n",
    "\n",
    "    transformed_expression = transform_expression(expression)\n",
    "\n",
    "    def simplify_expression(transformed_expression):\n",
    "        # Base case: if the expression is not a list, return it as is\n",
    "        if not isinstance(transformed_expression, list):\n",
    "            return transformed_expression\n",
    "        \n",
    "        # Recursive case: process the nested list\n",
    "        operator = transformed_expression[0]\n",
    "        operands = transformed_expression[1:]\n",
    "        \n",
    "        # Simplify each operand\n",
    "        simplified_operands = [simplify_expression(operand) for operand in operands]\n",
    "        \n",
    "        # Combine the simplified operands based on the operator\n",
    "        if operator == 'add':\n",
    "            return f\"({simplified_operands[0]} + {simplified_operands[1]})\"\n",
    "        elif operator == 'mul':\n",
    "            return f\"({simplified_operands[0]} * {simplified_operands[1]})\"\n",
    "        elif operator == 'sub':\n",
    "            return f\"({simplified_operands[0]} - {simplified_operands[1]})\"\n",
    "        elif operator == 'div':\n",
    "            return f\"({simplified_operands[0]} / {simplified_operands[1]})\"\n",
    "        else:\n",
    "            raise ValueError(f\"Unknown operator: {operator}\")\n",
    "\n",
    "    return simplify_expression(transformed_expression)"
   ]
  },
  {
   "cell_type": "code",
   "execution_count": 89,
   "id": "f455d3dd-f2d1-46a5-b370-7f39f98268f0",
   "metadata": {},
   "outputs": [
    {
     "data": {
      "text/plain": [
       "'((0.9 + (X1 * 5)) - ((X1 - X0) * (X0 + X1)))'"
      ]
     },
     "metadata": {},
     "output_type": "display_data"
    }
   ],
   "source": [
    "# Examle usage \n",
    "genetic_program = 'sub(add(0.9, mul(X1, 5)), mul(sub(X1, X0), add(X0, X1)))'\n",
    "translated_gp = translate_gp_format(genetic_program)\n",
    "display(translated_gp)"
   ]
  },
  {
   "cell_type": "code",
   "execution_count": null,
   "id": "8bb2c2c6-d6a6-40e3-8d65-ae5a3c8830f2",
   "metadata": {},
   "outputs": [],
   "source": []
  }
 ],
 "metadata": {
  "kernelspec": {
   "display_name": "Python 3 (ipykernel)",
   "language": "python",
   "name": "python3"
  },
  "language_info": {
   "codemirror_mode": {
    "name": "ipython",
    "version": 3
   },
   "file_extension": ".py",
   "mimetype": "text/x-python",
   "name": "python",
   "nbconvert_exporter": "python",
   "pygments_lexer": "ipython3",
   "version": "3.12.4"
  }
 },
 "nbformat": 4,
 "nbformat_minor": 5
}
